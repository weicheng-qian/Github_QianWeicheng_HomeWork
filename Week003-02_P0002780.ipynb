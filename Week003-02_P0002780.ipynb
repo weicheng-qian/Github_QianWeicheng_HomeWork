{
 "cells": [
  {
   "cell_type": "code",
   "execution_count": null,
   "id": "39357d3a-333b-4cac-a042-199ac329f5f9",
   "metadata": {},
   "outputs": [],
   "source": []
  }
 ],
 "metadata": {
  "kernelspec": {
   "display_name": "AliOpenAPI",
   "language": "python",
   "name": "aliopenapi"
  },
  "language_info": {
   "codemirror_mode": {
    "name": "ipython",
    "version": 3
   },
   "file_extension": ".py",
   "mimetype": "text/x-python",
   "name": "python",
   "nbconvert_exporter": "python",
   "pygments_lexer": "ipython3",
   "version": "3.11.7"
  }
 },
 "nbformat": 4,
 "nbformat_minor": 5
}
